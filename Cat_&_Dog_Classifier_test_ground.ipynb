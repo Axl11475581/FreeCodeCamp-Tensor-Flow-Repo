{
  "nbformat": 4,
  "nbformat_minor": 0,
  "metadata": {
    "colab": {
      "name": "Cat & Dog Classifier-test ground.ipynb",
      "provenance": [],
      "collapsed_sections": [],
      "authorship_tag": "ABX9TyMYNifDgeyRaEApNKWeoV5n",
      "include_colab_link": true
    },
    "kernelspec": {
      "name": "python3",
      "display_name": "Python 3"
    },
    "language_info": {
      "name": "python"
    }
  },
  "cells": [
    {
      "cell_type": "markdown",
      "metadata": {
        "id": "view-in-github",
        "colab_type": "text"
      },
      "source": [
        "<a href=\"https://colab.research.google.com/github/Axl11475581/FreeCodeCamp-Tensor-Flow-Repo/blob/main/Cat_%26_Dog_Classifier_test_ground.ipynb\" target=\"_parent\"><img src=\"https://colab.research.google.com/assets/colab-badge.svg\" alt=\"Open In Colab\"/></a>"
      ]
    },
    {
      "cell_type": "code",
      "metadata": {
        "id": "5z_ASaPvxkP2"
      },
      "source": [
        "import tensorflow as tf\n",
        "\n",
        "from tensorflow.keras.models import Sequential\n",
        "from tensorflow.keras.layers import Dense, Conv2D, Flatten, Dropout, MaxPooling2D\n",
        "from tensorflow.keras.preprocessing.image import ImageDataGenerator\n",
        "\n",
        "import os\n",
        "import numpy as np\n",
        "import matplotlib.pyplot as plt"
      ],
      "execution_count": null,
      "outputs": []
    },
    {
      "cell_type": "code",
      "metadata": {
        "id": "QHWmQORHyBRW"
      },
      "source": [
        "# Get project files\n",
        "!wget https://cdn.freecodecamp.org/project-data/cats-and-dogs/cats_and_dogs.zip\n",
        "\n",
        "!unzip cats_and_dogs.zip\n",
        "\n",
        "PATH = 'cats_and_dogs'\n",
        "\n",
        "train_dir = os.path.join(PATH, 'train')\n",
        "validation_dir = os.path.join(PATH, 'validation')\n",
        "test_dir = os.path.join(PATH, 'test')\n",
        "\n",
        "# Get number of files in each directory. The train and validation directories\n",
        "# each have the subdirecories \"dogs\" and \"cats\".\n",
        "total_train = sum([len(files) for r, d, files in os.walk(train_dir)])\n",
        "total_val = sum([len(files) for r, d, files in os.walk(validation_dir)])\n",
        "total_test = len(os.listdir(test_dir))\n",
        "\n",
        "# Variables for pre-processing and training.\n",
        "batch_size = 128\n",
        "epochs = 15\n",
        "IMG_HEIGHT = 150\n",
        "IMG_WIDTH = 150"
      ],
      "execution_count": null,
      "outputs": []
    },
    {
      "cell_type": "code",
      "metadata": {
        "colab": {
          "base_uri": "https://localhost:8080/"
        },
        "id": "ZFmOsXnxyIMd",
        "outputId": "f700da35-7642-4ada-81a4-8fc4e243dfb3"
      },
      "source": [
        "train_image_generator = ImageDataGenerator(rescale=1/225)\n",
        "validation_image_generator = ImageDataGenerator(rescale=1/225)\n",
        "test_image_generator = ImageDataGenerator(1/225)\n",
        "\n",
        "train_data_gen = train_image_generator.flow_from_directory(\n",
        "directory=train_dir,\n",
        "target_size=(IMG_HEIGHT, IMG_WIDTH),\n",
        "color_mode= 'rgb',\n",
        "batch_size=batch_size,\n",
        "class_mode= 'binary',\n",
        "shuffle=True,\n",
        "seed=None\n",
        ")\n",
        "val_data_gen =validation_image_generator.flow_from_directory(\n",
        "directory=validation_dir,\n",
        "target_size=(IMG_HEIGHT, IMG_WIDTH),\n",
        "color_mode= 'rgb',\n",
        "batch_size=batch_size,\n",
        "class_mode= 'binary',\n",
        "shuffle=True,\n",
        "seed=None\n",
        ")\n",
        "test_data_gen = test_image_generator.flow_from_directory(\n",
        "directory=test_dir,\n",
        "target_size=(IMG_HEIGHT, IMG_WIDTH),\n",
        "color_mode= 'rgb',\n",
        "batch_size=batch_size,\n",
        "class_mode= 'input',\n",
        "shuffle=False,\n",
        "seed=None\n",
        ")"
      ],
      "execution_count": 40,
      "outputs": [
        {
          "output_type": "stream",
          "text": [
            "Found 2000 images belonging to 2 classes.\n",
            "Found 1000 images belonging to 2 classes.\n",
            "Found 0 images belonging to 0 classes.\n"
          ],
          "name": "stdout"
        }
      ]
    },
    {
      "cell_type": "code",
      "metadata": {
        "id": "SI2vU0_s1WNG"
      },
      "source": [
        ""
      ],
      "execution_count": null,
      "outputs": []
    }
  ]
}