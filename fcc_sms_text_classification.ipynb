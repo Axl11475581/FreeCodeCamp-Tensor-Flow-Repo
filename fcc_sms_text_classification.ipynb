{
  "nbformat": 4,
  "nbformat_minor": 0,
  "metadata": {
    "colab": {
      "name": "fcc_sms_text_classification.ipynb",
      "provenance": [],
      "collapsed_sections": [],
      "include_colab_link": true
    },
    "kernelspec": {
      "display_name": "Python 3",
      "name": "python3"
    }
  },
  "cells": [
    {
      "cell_type": "markdown",
      "metadata": {
        "id": "view-in-github",
        "colab_type": "text"
      },
      "source": [
        "<a href=\"https://colab.research.google.com/github/Axl11475581/FreeCodeCamp-Tensor-Flow-Repo/blob/main/fcc_sms_text_classification.ipynb\" target=\"_parent\"><img src=\"https://colab.research.google.com/assets/colab-badge.svg\" alt=\"Open In Colab\"/></a>"
      ]
    },
    {
      "cell_type": "markdown",
      "metadata": {
        "id": "Eg62Pmz3o83v"
      },
      "source": [
        "*Note: You are currently reading this using Google Colaboratory which is a cloud-hosted version of Jupyter Notebook. This is a document containing both text cells for documentation and runnable code cells. If you are unfamiliar with Jupyter Notebook, watch this 3-minute introduction before starting this challenge: https://www.youtube.com/watch?v=inN8seMm7UI*\n",
        "\n",
        "---\n",
        "\n",
        "In this challenge, you need to create a machine learning model that will classify SMS messages as either \"ham\" or \"spam\". A \"ham\" message is a normal message sent by a friend. A \"spam\" message is an advertisement or a message sent by a company.\n",
        "\n",
        "You should create a function called `predict_message` that takes a message string as an argument and returns a list. The first element in the list should be a number between zero and one that indicates the likeliness of \"ham\" (0) or \"spam\" (1). The second element in the list should be the word \"ham\" or \"spam\", depending on which is most likely.\n",
        "\n",
        "For this challenge, you will use the [SMS Spam Collection dataset](http://www.dt.fee.unicamp.br/~tiago/smsspamcollection/). The dataset has already been grouped into train data and test data.\n",
        "\n",
        "The first two cells import the libraries and data. The final cell tests your model and function. Add your code in between these cells.\n"
      ]
    },
    {
      "cell_type": "code",
      "metadata": {
        "id": "8RZOuS9LWQvv"
      },
      "source": [
        "# import libraries\n",
        "try:\n",
        "  # %tensorflow_version only exists in Colab.\n",
        "  !pip install tf-nightly\n",
        "except Exception:\n",
        "  pass\n",
        "import tensorflow as tf\n",
        "import pandas as pd\n",
        "from tensorflow import keras\n",
        "!pip install tensorflow-datasets\n",
        "import tensorflow_datasets as tfds\n",
        "import numpy as np\n",
        "import matplotlib.pyplot as plt\n",
        "\n",
        "print(tf.__version__)"
      ],
      "execution_count": null,
      "outputs": []
    },
    {
      "cell_type": "code",
      "metadata": {
        "id": "lMHwYXHXCar3"
      },
      "source": [
        "# get data files\n",
        "!wget https://cdn.freecodecamp.org/project-data/sms/train-data.tsv\n",
        "!wget https://cdn.freecodecamp.org/project-data/sms/valid-data.tsv\n",
        "\n",
        "train_file_path = \"train-data.tsv\"\n",
        "test_file_path = \"valid-data.tsv\""
      ],
      "execution_count": null,
      "outputs": []
    },
    {
      "cell_type": "code",
      "metadata": {
        "id": "g_h508FEClxO"
      },
      "source": [
        "df_train = pd.read_csv(train_file_path, sep=\"\\t\", header=None)\n",
        "df_test = pd.read_csv(test_file_path, sep=\"\\t\", header=None)"
      ],
      "execution_count": 4,
      "outputs": []
    },
    {
      "cell_type": "code",
      "metadata": {
        "colab": {
          "base_uri": "https://localhost:8080/",
          "height": 206
        },
        "id": "6KZ6p8CQfyvJ",
        "outputId": "17a69184-92c4-45c7-9ee6-f5a9189f3d00"
      },
      "source": [
        "df_train.head()"
      ],
      "execution_count": 5,
      "outputs": [
        {
          "output_type": "execute_result",
          "data": {
            "text/html": [
              "<div>\n",
              "<style scoped>\n",
              "    .dataframe tbody tr th:only-of-type {\n",
              "        vertical-align: middle;\n",
              "    }\n",
              "\n",
              "    .dataframe tbody tr th {\n",
              "        vertical-align: top;\n",
              "    }\n",
              "\n",
              "    .dataframe thead th {\n",
              "        text-align: right;\n",
              "    }\n",
              "</style>\n",
              "<table border=\"1\" class=\"dataframe\">\n",
              "  <thead>\n",
              "    <tr style=\"text-align: right;\">\n",
              "      <th></th>\n",
              "      <th>0</th>\n",
              "      <th>1</th>\n",
              "    </tr>\n",
              "  </thead>\n",
              "  <tbody>\n",
              "    <tr>\n",
              "      <th>0</th>\n",
              "      <td>ham</td>\n",
              "      <td>ahhhh...just woken up!had a bad dream about u ...</td>\n",
              "    </tr>\n",
              "    <tr>\n",
              "      <th>1</th>\n",
              "      <td>ham</td>\n",
              "      <td>you can never do nothing</td>\n",
              "    </tr>\n",
              "    <tr>\n",
              "      <th>2</th>\n",
              "      <td>ham</td>\n",
              "      <td>now u sound like manky scouse boy steve,like! ...</td>\n",
              "    </tr>\n",
              "    <tr>\n",
              "      <th>3</th>\n",
              "      <td>ham</td>\n",
              "      <td>mum say we wan to go then go... then she can s...</td>\n",
              "    </tr>\n",
              "    <tr>\n",
              "      <th>4</th>\n",
              "      <td>ham</td>\n",
              "      <td>never y lei... i v lazy... got wat? dat day ü ...</td>\n",
              "    </tr>\n",
              "  </tbody>\n",
              "</table>\n",
              "</div>"
            ],
            "text/plain": [
              "     0                                                  1\n",
              "0  ham  ahhhh...just woken up!had a bad dream about u ...\n",
              "1  ham                           you can never do nothing\n",
              "2  ham  now u sound like manky scouse boy steve,like! ...\n",
              "3  ham  mum say we wan to go then go... then she can s...\n",
              "4  ham  never y lei... i v lazy... got wat? dat day ü ..."
            ]
          },
          "metadata": {
            "tags": []
          },
          "execution_count": 5
        }
      ]
    },
    {
      "cell_type": "code",
      "metadata": {
        "colab": {
          "base_uri": "https://localhost:8080/",
          "height": 206
        },
        "id": "6ovSutFPf15T",
        "outputId": "f0ca9daa-3f0c-487a-bc85-252e0cca97d1"
      },
      "source": [
        "#convert labels to 0 and 1\n",
        "df_train[\"spam\"] = pd.get_dummies(df_train[0], drop_first=True)\n",
        "df_train = df_train.drop(0, axis=1)\n",
        "\n",
        "df_test[\"spam\"] = pd.get_dummies(df_test[0], drop_first=True)\n",
        "df_test = df_test.drop(0, axis=1)\n",
        "\n",
        "#view the changes\n",
        "df_train.head()"
      ],
      "execution_count": 12,
      "outputs": [
        {
          "output_type": "execute_result",
          "data": {
            "text/html": [
              "<div>\n",
              "<style scoped>\n",
              "    .dataframe tbody tr th:only-of-type {\n",
              "        vertical-align: middle;\n",
              "    }\n",
              "\n",
              "    .dataframe tbody tr th {\n",
              "        vertical-align: top;\n",
              "    }\n",
              "\n",
              "    .dataframe thead th {\n",
              "        text-align: right;\n",
              "    }\n",
              "</style>\n",
              "<table border=\"1\" class=\"dataframe\">\n",
              "  <thead>\n",
              "    <tr style=\"text-align: right;\">\n",
              "      <th></th>\n",
              "      <th>1</th>\n",
              "      <th>spam</th>\n",
              "    </tr>\n",
              "  </thead>\n",
              "  <tbody>\n",
              "    <tr>\n",
              "      <th>0</th>\n",
              "      <td>ahhhh...just woken up!had a bad dream about u ...</td>\n",
              "      <td>0</td>\n",
              "    </tr>\n",
              "    <tr>\n",
              "      <th>1</th>\n",
              "      <td>you can never do nothing</td>\n",
              "      <td>0</td>\n",
              "    </tr>\n",
              "    <tr>\n",
              "      <th>2</th>\n",
              "      <td>now u sound like manky scouse boy steve,like! ...</td>\n",
              "      <td>0</td>\n",
              "    </tr>\n",
              "    <tr>\n",
              "      <th>3</th>\n",
              "      <td>mum say we wan to go then go... then she can s...</td>\n",
              "      <td>0</td>\n",
              "    </tr>\n",
              "    <tr>\n",
              "      <th>4</th>\n",
              "      <td>never y lei... i v lazy... got wat? dat day ü ...</td>\n",
              "      <td>0</td>\n",
              "    </tr>\n",
              "  </tbody>\n",
              "</table>\n",
              "</div>"
            ],
            "text/plain": [
              "                                                   1  spam\n",
              "0  ahhhh...just woken up!had a bad dream about u ...     0\n",
              "1                           you can never do nothing     0\n",
              "2  now u sound like manky scouse boy steve,like! ...     0\n",
              "3  mum say we wan to go then go... then she can s...     0\n",
              "4  never y lei... i v lazy... got wat? dat day ü ...     0"
            ]
          },
          "metadata": {
            "tags": []
          },
          "execution_count": 12
        }
      ]
    },
    {
      "cell_type": "code",
      "metadata": {
        "colab": {
          "base_uri": "https://localhost:8080/",
          "height": 297
        },
        "id": "dNf7OEk_hglh",
        "outputId": "11338fa4-7580-49b9-9138-7fab3bf6aedb"
      },
      "source": [
        "#visualizing the data\n",
        "import seaborn as sns\n",
        "sns.countplot(x=\"spam\",data=df_train)"
      ],
      "execution_count": 16,
      "outputs": [
        {
          "output_type": "execute_result",
          "data": {
            "text/plain": [
              "<matplotlib.axes._subplots.AxesSubplot at 0x7f9883b2db10>"
            ]
          },
          "metadata": {
            "tags": []
          },
          "execution_count": 16
        },
        {
          "output_type": "display_data",
          "data": {
            "image/png": "[encoded data removed]",
            "text/plain": [
              "<Figure size 432x288 with 1 Axes>"
            ]
          },
          "metadata": {
            "tags": [],
            "needs_background": "light"
          }
        }
      ]
    },
    {
      "cell_type": "code",
      "metadata": {
        "colab": {
          "base_uri": "https://localhost:8080/",
          "height": 297
        },
        "id": "zgXicaV-h15h",
        "outputId": "675731f0-1b23-40d2-8bff-3fc6513699c2"
      },
      "source": [
        "sns.countplot(x=\"spam\",data=df_test)"
      ],
      "execution_count": 17,
      "outputs": [
        {
          "output_type": "execute_result",
          "data": {
            "text/plain": [
              "<matplotlib.axes._subplots.AxesSubplot at 0x7f9883b57b10>"
            ]
          },
          "metadata": {
            "tags": []
          },
          "execution_count": 17
        },
        {
          "output_type": "display_data",
          "data": {
            "image/png": "[encoded data removed]",
            "text/plain": [
              "<Figure size 432x288 with 1 Axes>"
            ]
          },
          "metadata": {
            "tags": [],
            "needs_background": "light"
          }
        }
      ]
    },
    {
      "cell_type": "code",
      "metadata": {
        "id": "4Qoexv71iYwv"
      },
      "source": [
        "#slicing the tensors (dataset) for keyword labelling and masking \n",
        "train_data = (tf.data.Dataset.from_tensor_slices((\n",
        "              tf.cast(df_train[1].values,tf.string),\n",
        "              tf.cast(df_train[\"spam\"].values,tf.int32))))\n",
        "\n",
        "test_data = (tf.data.Dataset.from_tensor_slices((\n",
        "             tf.cast(df_test[1].values,tf.string),\n",
        "             tf.cast(df_test[\"spam\"].values,tf.int32))))"
      ],
      "execution_count": 20,
      "outputs": []
    },
    {
      "cell_type": "code",
      "metadata": {
        "colab": {
          "base_uri": "https://localhost:8080/"
        },
        "id": "qMYzfgUmkM7S",
        "outputId": "ce937b38-7803-4d3d-9fd1-fd29abe26c6e"
      },
      "source": [
        "#connecting the project with tensor_hub to bring a pre-trained model\n",
        "!pip install -q tensorflow-hub\n",
        "import tensorflow_hub as hub\n",
        "print(\"Hub version: \", hub.__version__)"
      ],
      "execution_count": 21,
      "outputs": [
        {
          "output_type": "stream",
          "text": [
            "Hub version:  0.12.0\n"
          ],
          "name": "stdout"
        }
      ]
    },
    {
      "cell_type": "code",
      "metadata": {
        "colab": {
          "base_uri": "https://localhost:8080/"
        },
        "id": "8ZK_5wSsl4z2",
        "outputId": "339844ac-d549-48e4-92cb-72067be53b1d"
      },
      "source": [
        "#batch of train examples and labels\n",
        "train_examples_batch, train_labels_batch = next(iter(train_data.batch(10)))\n",
        "train_examples_batch"
      ],
      "execution_count": 22,
      "outputs": [
        {
          "output_type": "execute_result",
          "data": {
            "text/plain": [
              "<tf.Tensor: shape=(10,), dtype=string, numpy=\n",
              "array([b'ahhhh...just woken up!had a bad dream about u tho,so i dont like u right now :) i didnt know anything about comedy night but i guess im up for it.',\n",
              "       b'you can never do nothing',\n",
              "       b'now u sound like manky scouse boy steve,like! i is travelling on da bus home.wot has u inmind 4 recreation dis eve?',\n",
              "       b'mum say we wan to go then go... then she can shun bian watch da glass exhibition...',\n",
              "       b'never y lei... i v lazy... got wat? dat day \\xc3\\xbc send me da url cant work one...',\n",
              "       b'in xam hall boy asked girl tell me the starting term for dis answer i can den manage on my own after lot of hesitation n lookin around silently she said the! intha ponnungale ipaditan;)',\n",
              "       b\"genius what's up. how your brother. pls send his number to my skype.\",\n",
              "       b'they finally came to fix the ceiling.',\n",
              "       b'urgent! call 09066350750 from your landline. your complimentary 4* ibiza holiday or 10,000 cash await collection sae t&cs po box 434 sk3 8wp 150 ppm 18+',\n",
              "       b'now that you have started dont stop. just pray for more good ideas and anything i see that can help you guys i.ll forward you a link.'],\n",
              "      dtype=object)>"
            ]
          },
          "metadata": {
            "tags": []
          },
          "execution_count": 22
        }
      ]
    },
    {
      "cell_type": "code",
      "metadata": {
        "colab": {
          "base_uri": "https://localhost:8080/"
        },
        "id": "Lw0U5UJ9mTmN",
        "outputId": "fedf653a-0154-4f96-95da-86db57ca2089"
      },
      "source": [
        "train_labels_batch"
      ],
      "execution_count": 23,
      "outputs": [
        {
          "output_type": "execute_result",
          "data": {
            "text/plain": [
              "<tf.Tensor: shape=(10,), dtype=int32, numpy=array([0, 0, 0, 0, 0, 0, 0, 0, 1, 0], dtype=int32)>"
            ]
          },
          "metadata": {
            "tags": []
          },
          "execution_count": 23
        }
      ]
    },
    {
      "cell_type": "code",
      "metadata": {
        "colab": {
          "base_uri": "https://localhost:8080/"
        },
        "id": "RRSslYZRnst0",
        "outputId": "9cea05d3-5897-4c54-b344-efa99a6da6c8"
      },
      "source": [
        "#bringing the model: Token based text embedding trained on English Google News 130GB corpus\n",
        "embedding = \"https://tfhub.dev/google/tf2-preview/gnews-swivel-20dim/1\"\n",
        "hub_layer = hub.KerasLayer(embedding, input_shape=[], \n",
        "                           dtype=tf.string, trainable=True)\n",
        "hub_layer(train_examples_batch[:3])"
      ],
      "execution_count": 24,
      "outputs": [
        {
          "output_type": "execute_result",
          "data": {
            "text/plain": [
              "<tf.Tensor: shape=(3, 20), dtype=float32, numpy=\n",
              "array([[ 6.5803975e-01, -2.6694477e+00,  2.1699309e+00,  1.1914589e+00,\n",
              "        -4.5830355e+00, -2.6140189e+00, -3.3451486e+00,  1.0574487e+00,\n",
              "         2.7708957e+00,  9.0441662e-01, -2.7067542e+00,  1.0917737e+00,\n",
              "         2.1099505e+00,  8.0555040e-01, -2.8804941e+00,  7.6715600e-01,\n",
              "         2.6439478e+00, -6.2924510e-01, -1.8367645e+00, -1.5989085e+00],\n",
              "       [ 6.9591868e-01, -1.7398572e+00,  1.5667624e+00,  1.5939382e+00,\n",
              "        -3.1426187e+00, -2.8005672e+00, -1.2499360e+00,  1.3363264e+00,\n",
              "         9.0420026e-01,  9.5162886e-01, -7.7567214e-01, -3.9877254e-03,\n",
              "         9.1853809e-01,  5.8934504e-01, -2.2077188e+00,  4.9703789e-01,\n",
              "         2.5231953e+00, -2.0407477e-01, -6.8490952e-01, -1.0306396e+00],\n",
              "       [ 5.3883386e-01, -7.3225409e-01,  1.1867530e+00,  5.3527482e-02,\n",
              "        -1.1466477e+00, -4.2752609e-01, -1.6493666e+00,  6.5955973e-01,\n",
              "         6.7386132e-01,  8.4187484e-01, -2.3974545e+00,  1.5436208e+00,\n",
              "         4.9565777e-01, -2.6347631e-01, -1.4741862e+00,  8.3014697e-01,\n",
              "         1.3075189e-02,  8.3290142e-01, -4.4903743e-01, -2.2866699e-01]],\n",
              "      dtype=float32)>"
            ]
          },
          "metadata": {
            "tags": []
          },
          "execution_count": 24
        }
      ]
    },
    {
      "cell_type": "code",
      "metadata": {
        "colab": {
          "base_uri": "https://localhost:8080/"
        },
        "id": "Eb2ncYBmoStU",
        "outputId": "5ffc2a0c-3673-4f7d-b979-05f3429188b6"
      },
      "source": [
        "#getting the model ready\n",
        "model = tf.keras.Sequential()\n",
        "model.add(hub_layer)\n",
        "model.add(tf.keras.layers.Dense(16, activation='relu'))\n",
        "model.add(tf.keras.layers.Dense(1))\n",
        "\n",
        "model.summary()"
      ],
      "execution_count": 25,
      "outputs": [
        {
          "output_type": "stream",
          "text": [
            "Model: \"sequential\"\n",
            "_________________________________________________________________\n",
            "Layer (type)                 Output Shape              Param #   \n",
            "=================================================================\n",
            "keras_layer (KerasLayer)     (None, 20)                400020    \n",
            "_________________________________________________________________\n",
            "dense (Dense)                (None, 16)                336       \n",
            "_________________________________________________________________\n",
            "dense_1 (Dense)              (None, 1)                 17        \n",
            "=================================================================\n",
            "Total params: 400,373\n",
            "Trainable params: 400,373\n",
            "Non-trainable params: 0\n",
            "_________________________________________________________________\n"
          ],
          "name": "stdout"
        }
      ]
    },
    {
      "cell_type": "code",
      "metadata": {
        "id": "AdZv4Mkmorn_"
      },
      "source": [
        "model.compile(optimizer='adam',\n",
        "              loss=tf.keras.losses.BinaryCrossentropy(from_logits=True),\n",
        "              metrics=['accuracy'])"
      ],
      "execution_count": 26,
      "outputs": []
    },
    {
      "cell_type": "code",
      "metadata": {
        "colab": {
          "base_uri": "https://localhost:8080/"
        },
        "id": "ojrW-RW2owHY",
        "outputId": "3aadbcde-071f-4012-e5be-58600c7e4595"
      },
      "source": [
        "history = model.fit(train_data.shuffle(10000).batch(512),\n",
        "                    epochs=20,\n",
        "                    validation_data=test_data.batch(512),\n",
        "                    verbose=1)"
      ],
      "execution_count": 27,
      "outputs": [
        {
          "output_type": "stream",
          "text": [
            "Epoch 1/20\n",
            "9/9 [==============================] - 1s 30ms/step - loss: 0.4266 - accuracy: 0.8713 - val_loss: 0.3705 - val_accuracy: 0.8764\n",
            "Epoch 2/20\n",
            "9/9 [==============================] - 0s 12ms/step - loss: 0.3673 - accuracy: 0.8737 - val_loss: 0.3317 - val_accuracy: 0.8764\n",
            "Epoch 3/20\n",
            "9/9 [==============================] - 0s 13ms/step - loss: 0.3355 - accuracy: 0.8756 - val_loss: 0.3065 - val_accuracy: 0.8779\n",
            "Epoch 4/20\n",
            "9/9 [==============================] - 0s 12ms/step - loss: 0.3113 - accuracy: 0.8789 - val_loss: 0.2856 - val_accuracy: 0.8851\n",
            "Epoch 5/20\n",
            "9/9 [==============================] - 0s 14ms/step - loss: 0.2909 - accuracy: 0.8859 - val_loss: 0.2665 - val_accuracy: 0.8951\n",
            "Epoch 6/20\n",
            "9/9 [==============================] - 0s 13ms/step - loss: 0.2722 - accuracy: 0.8945 - val_loss: 0.2496 - val_accuracy: 0.9037\n",
            "Epoch 7/20\n",
            "9/9 [==============================] - 0s 11ms/step - loss: 0.2561 - accuracy: 0.9084 - val_loss: 0.2345 - val_accuracy: 0.9145\n",
            "Epoch 8/20\n",
            "9/9 [==============================] - 0s 12ms/step - loss: 0.2412 - accuracy: 0.9179 - val_loss: 0.2215 - val_accuracy: 0.9152\n",
            "Epoch 9/20\n",
            "9/9 [==============================] - 0s 12ms/step - loss: 0.2280 - accuracy: 0.9244 - val_loss: 0.2089 - val_accuracy: 0.9181\n",
            "Epoch 10/20\n",
            "9/9 [==============================] - 0s 12ms/step - loss: 0.2151 - accuracy: 0.9332 - val_loss: 0.1972 - val_accuracy: 0.9282\n",
            "Epoch 11/20\n",
            "9/9 [==============================] - 0s 14ms/step - loss: 0.2033 - accuracy: 0.9409 - val_loss: 0.1865 - val_accuracy: 0.9361\n",
            "Epoch 12/20\n",
            "9/9 [==============================] - 0s 12ms/step - loss: 0.1920 - accuracy: 0.9464 - val_loss: 0.1768 - val_accuracy: 0.9375\n",
            "Epoch 13/20\n",
            "9/9 [==============================] - 0s 12ms/step - loss: 0.1822 - accuracy: 0.9486 - val_loss: 0.1678 - val_accuracy: 0.9404\n",
            "Epoch 14/20\n",
            "9/9 [==============================] - 0s 13ms/step - loss: 0.1726 - accuracy: 0.9509 - val_loss: 0.1597 - val_accuracy: 0.9440\n",
            "Epoch 15/20\n",
            "9/9 [==============================] - 0s 12ms/step - loss: 0.1640 - accuracy: 0.9555 - val_loss: 0.1520 - val_accuracy: 0.9476\n",
            "Epoch 16/20\n",
            "9/9 [==============================] - 0s 12ms/step - loss: 0.1554 - accuracy: 0.9576 - val_loss: 0.1449 - val_accuracy: 0.9533\n",
            "Epoch 17/20\n",
            "9/9 [==============================] - 0s 12ms/step - loss: 0.1477 - accuracy: 0.9612 - val_loss: 0.1387 - val_accuracy: 0.9562\n",
            "Epoch 18/20\n",
            "9/9 [==============================] - 0s 13ms/step - loss: 0.1405 - accuracy: 0.9639 - val_loss: 0.1323 - val_accuracy: 0.9583\n",
            "Epoch 19/20\n",
            "9/9 [==============================] - 0s 12ms/step - loss: 0.1336 - accuracy: 0.9641 - val_loss: 0.1262 - val_accuracy: 0.9591\n",
            "Epoch 20/20\n",
            "9/9 [==============================] - 0s 12ms/step - loss: 0.1268 - accuracy: 0.9651 - val_loss: 0.1209 - val_accuracy: 0.9591\n"
          ],
          "name": "stdout"
        }
      ]
    },
    {
      "cell_type": "code",
      "metadata": {
        "id": "9LRNl4Sao1iH"
      },
      "source": [
        "def plot_history(history):\n",
        "    acc = history.history['accuracy']\n",
        "    val_acc = history.history['val_accuracy']\n",
        "    loss = history.history['loss']\n",
        "    val_loss = history.history['val_loss']\n",
        "    x = range(1, len(acc) + 1)\n",
        "\n",
        "    plt.figure(figsize=(12, 5))\n",
        "    plt.subplot(1, 2, 1)\n",
        "    plt.plot(x, acc, 'b', label='Training acc')\n",
        "    plt.plot(x, val_acc, 'r', label='Validation acc')\n",
        "    plt.title('Training and validation accuracy')\n",
        "    plt.legend()\n",
        "    plt.subplot(1, 2, 2)\n",
        "    plt.plot(x, loss, 'b', label='Training loss')\n",
        "    plt.plot(x, val_loss, 'r', label='Validation loss')\n",
        "    plt.title('Training and validation loss')\n",
        "    plt.legend()"
      ],
      "execution_count": 28,
      "outputs": []
    },
    {
      "cell_type": "code",
      "metadata": {
        "colab": {
          "base_uri": "https://localhost:8080/",
          "height": 304
        },
        "id": "jVMGfa2ao-jl",
        "outputId": "42dfa2f8-e96b-4437-8fe7-442c08c59c7c"
      },
      "source": [
        "#viewing the model performance\n",
        "plot_history(history)"
      ],
      "execution_count": 29,
      "outputs": [
        {
          "output_type": "display_data",
          "data": {
            "image/png": "[encoded data removed]",
            "text/plain": [
              "<Figure size 864x360 with 2 Axes>"
            ]
          },
          "metadata": {
            "tags": [],
            "needs_background": "light"
          }
        }
      ]
    },
    {
      "cell_type": "code",
      "metadata": {
        "id": "J9tD9yACG6M9"
      },
      "source": [
        "# function to predict messages based on model\n",
        "# (should return list containing prediction and label, ex. [0.008318834938108921, 'ham'])\n",
        "def predict_message(pred_text):\n",
        "\n",
        "\n",
        "\n",
        "  return (prediction)\n",
        "\n",
        "pred_text = \"how are you doing today?\"\n",
        "\n",
        "prediction = predict_message(pred_text)\n",
        "print(prediction)"
      ],
      "execution_count": null,
      "outputs": []
    },
    {
      "cell_type": "code",
      "metadata": {
        "id": "Dxotov85SjsC"
      },
      "source": [
        "# Run this cell to test your function and model. Do not modify contents.\n",
        "def test_predictions():\n",
        "  test_messages = [\"how are you doing today\",\n",
        "                   \"sale today! to stop texts call 98912460324\",\n",
        "                   \"i dont want to go. can we try it a different day? available sat\",\n",
        "                   \"our new mobile video service is live. just install on your phone to start watching.\",\n",
        "                   \"you have won £1000 cash! call to claim your prize.\",\n",
        "                   \"i'll bring it tomorrow. don't forget the milk.\",\n",
        "                   \"wow, is your arm alright. that happened to me one time too\"\n",
        "                  ]\n",
        "\n",
        "  test_answers = [\"ham\", \"spam\", \"ham\", \"spam\", \"spam\", \"ham\", \"ham\"]\n",
        "  passed = True\n",
        "\n",
        "  for msg, ans in zip(test_messages, test_answers):\n",
        "    prediction = predict_message(msg)\n",
        "    if prediction[1] != ans:\n",
        "      passed = False\n",
        "\n",
        "  if passed:\n",
        "    print(\"You passed the challenge. Great job!\")\n",
        "  else:\n",
        "    print(\"You haven't passed yet. Keep trying.\")\n",
        "\n",
        "test_predictions()\n"
      ],
      "execution_count": null,
      "outputs": []
    }
  ]
}