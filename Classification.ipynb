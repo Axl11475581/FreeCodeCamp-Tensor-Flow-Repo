{
  "nbformat": 4,
  "nbformat_minor": 0,
  "metadata": {
    "colab": {
      "name": "Classification.ipynb",
      "provenance": [],
      "collapsed_sections": [],
      "authorship_tag": "ABX9TyNDUWCvHHFE4ggewlYQL5vU",
      "include_colab_link": true
    },
    "kernelspec": {
      "name": "python3",
      "display_name": "Python 3"
    },
    "language_info": {
      "name": "python"
    }
  },
  "cells": [
    {
      "cell_type": "markdown",
      "metadata": {
        "id": "view-in-github",
        "colab_type": "text"
      },
      "source": [
        "<a href=\"https://colab.research.google.com/github/Axl11475581/FreeCodeCamp-Tensor-Flow-Repo/blob/main/Classification.ipynb\" target=\"_parent\"><img src=\"https://colab.research.google.com/assets/colab-badge.svg\" alt=\"Open In Colab\"/></a>"
      ]
    },
    {
      "cell_type": "code",
      "metadata": {
        "id": "M9npEZo2Fjdz"
      },
      "source": [
        "from __future__ import absolute_import, division, print_function, unicode_literals\n",
        "\n",
        "\n",
        "import tensorflow as tf\n",
        "\n",
        "import pandas as pd"
      ],
      "execution_count": 1,
      "outputs": []
    },
    {
      "cell_type": "code",
      "metadata": {
        "id": "7zGKTBj2FsQT"
      },
      "source": [
        "CSV_COLUMN_NAMES = ['SepalLength', 'SepalWidth', 'PetalLength', 'PetalWidth', 'Species']\n",
        "SPECIES = ['Setosa', 'Versicolor', 'Virginica']\n",
        "# Lets define some constants to help us later on"
      ],
      "execution_count": 2,
      "outputs": []
    },
    {
      "cell_type": "code",
      "metadata": {
        "colab": {
          "base_uri": "https://localhost:8080/"
        },
        "id": "cu5nXP3cF3pz",
        "outputId": "f8b3ca3e-d80c-488b-ac74-9462c2a2b04d"
      },
      "source": [
        "train_path = tf.keras.utils.get_file(\n",
        "    \"iris_training.csv\", \"https://storage.googleapis.com/download.tensorflow.org/data/iris_training.csv\")\n",
        "test_path = tf.keras.utils.get_file(\n",
        "    \"iris_test.csv\", \"https://storage.googleapis.com/download.tensorflow.org/data/iris_test.csv\")\n",
        "\n",
        "train = pd.read_csv(train_path, names=CSV_COLUMN_NAMES, header=0)\n",
        "test = pd.read_csv(test_path, names=CSV_COLUMN_NAMES, header=0)\n",
        "# Here we use keras (a module inside of TensorFlow) to grab our datasets and read them into a pandas dataframe"
      ],
      "execution_count": 3,
      "outputs": [
        {
          "output_type": "stream",
          "text": [
            "Downloading data from https://storage.googleapis.com/download.tensorflow.org/data/iris_training.csv\n",
            "8192/2194 [================================================================================================================] - 0s 0us/step\n",
            "Downloading data from https://storage.googleapis.com/download.tensorflow.org/data/iris_test.csv\n",
            "8192/573 [============================================================================================================================================================================================================================================================================================================================================================================================================================================] - 0s 0us/step\n"
          ],
          "name": "stdout"
        }
      ]
    },
    {
      "cell_type": "code",
      "metadata": {
        "colab": {
          "base_uri": "https://localhost:8080/",
          "height": 206
        },
        "id": "YDrkJIGVF-1S",
        "outputId": "08819e30-673a-438e-b4cb-a67e9e659f67"
      },
      "source": [
        "train.head()"
      ],
      "execution_count": 4,
      "outputs": [
        {
          "output_type": "execute_result",
          "data": {
            "text/html": [
              "<div>\n",
              "<style scoped>\n",
              "    .dataframe tbody tr th:only-of-type {\n",
              "        vertical-align: middle;\n",
              "    }\n",
              "\n",
              "    .dataframe tbody tr th {\n",
              "        vertical-align: top;\n",
              "    }\n",
              "\n",
              "    .dataframe thead th {\n",
              "        text-align: right;\n",
              "    }\n",
              "</style>\n",
              "<table border=\"1\" class=\"dataframe\">\n",
              "  <thead>\n",
              "    <tr style=\"text-align: right;\">\n",
              "      <th></th>\n",
              "      <th>SepalLength</th>\n",
              "      <th>SepalWidth</th>\n",
              "      <th>PetalLength</th>\n",
              "      <th>PetalWidth</th>\n",
              "      <th>Species</th>\n",
              "    </tr>\n",
              "  </thead>\n",
              "  <tbody>\n",
              "    <tr>\n",
              "      <th>0</th>\n",
              "      <td>6.4</td>\n",
              "      <td>2.8</td>\n",
              "      <td>5.6</td>\n",
              "      <td>2.2</td>\n",
              "      <td>2</td>\n",
              "    </tr>\n",
              "    <tr>\n",
              "      <th>1</th>\n",
              "      <td>5.0</td>\n",
              "      <td>2.3</td>\n",
              "      <td>3.3</td>\n",
              "      <td>1.0</td>\n",
              "      <td>1</td>\n",
              "    </tr>\n",
              "    <tr>\n",
              "      <th>2</th>\n",
              "      <td>4.9</td>\n",
              "      <td>2.5</td>\n",
              "      <td>4.5</td>\n",
              "      <td>1.7</td>\n",
              "      <td>2</td>\n",
              "    </tr>\n",
              "    <tr>\n",
              "      <th>3</th>\n",
              "      <td>4.9</td>\n",
              "      <td>3.1</td>\n",
              "      <td>1.5</td>\n",
              "      <td>0.1</td>\n",
              "      <td>0</td>\n",
              "    </tr>\n",
              "    <tr>\n",
              "      <th>4</th>\n",
              "      <td>5.7</td>\n",
              "      <td>3.8</td>\n",
              "      <td>1.7</td>\n",
              "      <td>0.3</td>\n",
              "      <td>0</td>\n",
              "    </tr>\n",
              "  </tbody>\n",
              "</table>\n",
              "</div>"
            ],
            "text/plain": [
              "   SepalLength  SepalWidth  PetalLength  PetalWidth  Species\n",
              "0          6.4         2.8          5.6         2.2        2\n",
              "1          5.0         2.3          3.3         1.0        1\n",
              "2          4.9         2.5          4.5         1.7        2\n",
              "3          4.9         3.1          1.5         0.1        0\n",
              "4          5.7         3.8          1.7         0.3        0"
            ]
          },
          "metadata": {
            "tags": []
          },
          "execution_count": 4
        }
      ]
    },
    {
      "cell_type": "code",
      "metadata": {
        "colab": {
          "base_uri": "https://localhost:8080/",
          "height": 206
        },
        "id": "Kq5_9Eg1GDSy",
        "outputId": "f1462f6a-00bc-48fb-8317-7880606095b3"
      },
      "source": [
        "train_y = train.pop('Species')\n",
        "test_y = test.pop('Species')\n",
        "train.head() # the species column is now gone"
      ],
      "execution_count": 5,
      "outputs": [
        {
          "output_type": "execute_result",
          "data": {
            "text/html": [
              "<div>\n",
              "<style scoped>\n",
              "    .dataframe tbody tr th:only-of-type {\n",
              "        vertical-align: middle;\n",
              "    }\n",
              "\n",
              "    .dataframe tbody tr th {\n",
              "        vertical-align: top;\n",
              "    }\n",
              "\n",
              "    .dataframe thead th {\n",
              "        text-align: right;\n",
              "    }\n",
              "</style>\n",
              "<table border=\"1\" class=\"dataframe\">\n",
              "  <thead>\n",
              "    <tr style=\"text-align: right;\">\n",
              "      <th></th>\n",
              "      <th>SepalLength</th>\n",
              "      <th>SepalWidth</th>\n",
              "      <th>PetalLength</th>\n",
              "      <th>PetalWidth</th>\n",
              "    </tr>\n",
              "  </thead>\n",
              "  <tbody>\n",
              "    <tr>\n",
              "      <th>0</th>\n",
              "      <td>6.4</td>\n",
              "      <td>2.8</td>\n",
              "      <td>5.6</td>\n",
              "      <td>2.2</td>\n",
              "    </tr>\n",
              "    <tr>\n",
              "      <th>1</th>\n",
              "      <td>5.0</td>\n",
              "      <td>2.3</td>\n",
              "      <td>3.3</td>\n",
              "      <td>1.0</td>\n",
              "    </tr>\n",
              "    <tr>\n",
              "      <th>2</th>\n",
              "      <td>4.9</td>\n",
              "      <td>2.5</td>\n",
              "      <td>4.5</td>\n",
              "      <td>1.7</td>\n",
              "    </tr>\n",
              "    <tr>\n",
              "      <th>3</th>\n",
              "      <td>4.9</td>\n",
              "      <td>3.1</td>\n",
              "      <td>1.5</td>\n",
              "      <td>0.1</td>\n",
              "    </tr>\n",
              "    <tr>\n",
              "      <th>4</th>\n",
              "      <td>5.7</td>\n",
              "      <td>3.8</td>\n",
              "      <td>1.7</td>\n",
              "      <td>0.3</td>\n",
              "    </tr>\n",
              "  </tbody>\n",
              "</table>\n",
              "</div>"
            ],
            "text/plain": [
              "   SepalLength  SepalWidth  PetalLength  PetalWidth\n",
              "0          6.4         2.8          5.6         2.2\n",
              "1          5.0         2.3          3.3         1.0\n",
              "2          4.9         2.5          4.5         1.7\n",
              "3          4.9         3.1          1.5         0.1\n",
              "4          5.7         3.8          1.7         0.3"
            ]
          },
          "metadata": {
            "tags": []
          },
          "execution_count": 5
        }
      ]
    },
    {
      "cell_type": "code",
      "metadata": {
        "colab": {
          "base_uri": "https://localhost:8080/"
        },
        "id": "_LpbpuJvGiJF",
        "outputId": "6cff80d6-135d-4e1f-f8c4-b55aa8101e04"
      },
      "source": [
        "train.shape  # we have 120 entires with 4 features"
      ],
      "execution_count": 6,
      "outputs": [
        {
          "output_type": "execute_result",
          "data": {
            "text/plain": [
              "(120, 4)"
            ]
          },
          "metadata": {
            "tags": []
          },
          "execution_count": 6
        }
      ]
    },
    {
      "cell_type": "code",
      "metadata": {
        "id": "NZmbp755GniZ"
      },
      "source": [
        "def input_fn(features, labels, training=True, batch_size=256):\n",
        "    # Convert the inputs to a Dataset.\n",
        "    dataset = tf.data.Dataset.from_tensor_slices((dict(features), labels))\n",
        "\n",
        "    # Shuffle and repeat if you are in training mode.\n",
        "    if training:\n",
        "        dataset = dataset.shuffle(1000).repeat()\n",
        "    \n",
        "    return dataset.batch(batch_size)\n"
      ],
      "execution_count": 7,
      "outputs": []
    },
    {
      "cell_type": "code",
      "metadata": {
        "colab": {
          "base_uri": "https://localhost:8080/"
        },
        "id": "EoJp67O1G29t",
        "outputId": "ffe6f3fa-fff7-4742-872c-667edf77f67a"
      },
      "source": [
        "# Feature columns describe how to use the input.\n",
        "my_feature_columns = []\n",
        "for key in train.keys():\n",
        "    my_feature_columns.append(tf.feature_column.numeric_column(key=key))\n",
        "print(my_feature_columns)"
      ],
      "execution_count": 8,
      "outputs": [
        {
          "output_type": "stream",
          "text": [
            "[NumericColumn(key='SepalLength', shape=(1,), default_value=None, dtype=tf.float32, normalizer_fn=None), NumericColumn(key='SepalWidth', shape=(1,), default_value=None, dtype=tf.float32, normalizer_fn=None), NumericColumn(key='PetalLength', shape=(1,), default_value=None, dtype=tf.float32, normalizer_fn=None), NumericColumn(key='PetalWidth', shape=(1,), default_value=None, dtype=tf.float32, normalizer_fn=None)]\n"
          ],
          "name": "stdout"
        }
      ]
    },
    {
      "cell_type": "code",
      "metadata": {
        "id": "bHHzoxghG7xV",
        "colab": {
          "base_uri": "https://localhost:8080/"
        },
        "outputId": "eb64d530-f44b-43df-996c-557f2a73746a"
      },
      "source": [
        "# Build a DNN with 2 hidden layers with 30 and 10 hidden nodes each.\n",
        "classifier = tf.estimator.DNNClassifier(\n",
        "    feature_columns=my_feature_columns,\n",
        "    # Two hidden layers of 30 and 10 nodes respectively.\n",
        "    hidden_units=[30, 10],\n",
        "    # The model must choose between 3 classes.\n",
        "    n_classes=3)"
      ],
      "execution_count": 9,
      "outputs": [
        {
          "output_type": "stream",
          "text": [
            "INFO:tensorflow:Using default config.\n",
            "WARNING:tensorflow:Using temporary folder as model directory: /tmp/tmpccyj2dly\n",
            "INFO:tensorflow:Using config: {'_model_dir': '/tmp/tmpccyj2dly', '_tf_random_seed': None, '_save_summary_steps': 100, '_save_checkpoints_steps': None, '_save_checkpoints_secs': 600, '_session_config': allow_soft_placement: true\n",
            "graph_options {\n",
            "  rewrite_options {\n",
            "    meta_optimizer_iterations: ONE\n",
            "  }\n",
            "}\n",
            ", '_keep_checkpoint_max': 5, '_keep_checkpoint_every_n_hours': 10000, '_log_step_count_steps': 100, '_train_distribute': None, '_device_fn': None, '_protocol': None, '_eval_distribute': None, '_experimental_distribute': None, '_experimental_max_worker_delay_secs': None, '_session_creation_timeout_secs': 7200, '_checkpoint_save_graph_def': True, '_service': None, '_cluster_spec': ClusterSpec({}), '_task_type': 'worker', '_task_id': 0, '_global_id_in_cluster': 0, '_master': '', '_evaluation_master': '', '_is_chief': True, '_num_ps_replicas': 0, '_num_worker_replicas': 1}\n"
          ],
          "name": "stdout"
        }
      ]
    },
    {
      "cell_type": "code",
      "metadata": {
        "colab": {
          "base_uri": "https://localhost:8080/"
        },
        "id": "6_FJL5r50su_",
        "outputId": "bff0639b-4006-423f-fa27-08a13a8dee11"
      },
      "source": [
        "classifier.train(\n",
        "    input_fn=lambda: input_fn(train, train_y, training=True),\n",
        "    steps=5000)\n",
        "# We include a lambda to avoid creating an inner function previously"
      ],
      "execution_count": 10,
      "outputs": [
        {
          "output_type": "stream",
          "text": [
            "WARNING:tensorflow:From /usr/local/lib/python3.7/dist-packages/tensorflow/python/training/training_util.py:236: Variable.initialized_value (from tensorflow.python.ops.variables) is deprecated and will be removed in a future version.\n",
            "Instructions for updating:\n",
            "Use Variable.read_value. Variables in 2.X are initialized automatically both in eager and graph (inside tf.defun) contexts.\n",
            "INFO:tensorflow:Calling model_fn.\n",
            "WARNING:tensorflow:From /usr/local/lib/python3.7/dist-packages/tensorflow/python/keras/optimizer_v2/adagrad.py:83: calling Constant.__init__ (from tensorflow.python.ops.init_ops) with dtype is deprecated and will be removed in a future version.\n",
            "Instructions for updating:\n",
            "Call initializer instance with the dtype argument instead of passing it to the constructor\n",
            "INFO:tensorflow:Done calling model_fn.\n",
            "INFO:tensorflow:Create CheckpointSaverHook.\n",
            "INFO:tensorflow:Graph was finalized.\n",
            "INFO:tensorflow:Running local_init_op.\n",
            "INFO:tensorflow:Done running local_init_op.\n",
            "INFO:tensorflow:Calling checkpoint listeners before saving checkpoint 0...\n",
            "INFO:tensorflow:Saving checkpoints for 0 into /tmp/tmpccyj2dly/model.ckpt.\n",
            "INFO:tensorflow:Calling checkpoint listeners after saving checkpoint 0...\n",
            "INFO:tensorflow:loss = 2.855245, step = 0\n",
            "INFO:tensorflow:global_step/sec: 439.11\n",
            "INFO:tensorflow:loss = 1.2627313, step = 100 (0.233 sec)\n",
            "INFO:tensorflow:global_step/sec: 562.633\n",
            "INFO:tensorflow:loss = 0.9746736, step = 200 (0.178 sec)\n",
            "INFO:tensorflow:global_step/sec: 544.866\n",
            "INFO:tensorflow:loss = 0.83133656, step = 300 (0.182 sec)\n",
            "INFO:tensorflow:global_step/sec: 581.832\n",
            "INFO:tensorflow:loss = 0.7576258, step = 400 (0.169 sec)\n",
            "INFO:tensorflow:global_step/sec: 610.244\n",
            "INFO:tensorflow:loss = 0.72777534, step = 500 (0.166 sec)\n",
            "INFO:tensorflow:global_step/sec: 608.417\n",
            "INFO:tensorflow:loss = 0.68677115, step = 600 (0.163 sec)\n",
            "INFO:tensorflow:global_step/sec: 525.921\n",
            "INFO:tensorflow:loss = 0.6425629, step = 700 (0.192 sec)\n",
            "INFO:tensorflow:global_step/sec: 586.655\n",
            "INFO:tensorflow:loss = 0.6238376, step = 800 (0.171 sec)\n",
            "INFO:tensorflow:global_step/sec: 545.718\n",
            "INFO:tensorflow:loss = 0.6079036, step = 900 (0.180 sec)\n",
            "INFO:tensorflow:global_step/sec: 581.394\n",
            "INFO:tensorflow:loss = 0.62074685, step = 1000 (0.173 sec)\n",
            "INFO:tensorflow:global_step/sec: 584.961\n",
            "INFO:tensorflow:loss = 0.5759338, step = 1100 (0.172 sec)\n",
            "INFO:tensorflow:global_step/sec: 549.75\n",
            "INFO:tensorflow:loss = 0.56095093, step = 1200 (0.180 sec)\n",
            "INFO:tensorflow:global_step/sec: 575.129\n",
            "INFO:tensorflow:loss = 0.5629807, step = 1300 (0.174 sec)\n",
            "INFO:tensorflow:global_step/sec: 610.943\n",
            "INFO:tensorflow:loss = 0.5383207, step = 1400 (0.163 sec)\n",
            "INFO:tensorflow:global_step/sec: 575.141\n",
            "INFO:tensorflow:loss = 0.5327022, step = 1500 (0.174 sec)\n",
            "INFO:tensorflow:global_step/sec: 592.405\n",
            "INFO:tensorflow:loss = 0.529472, step = 1600 (0.172 sec)\n",
            "INFO:tensorflow:global_step/sec: 569.314\n",
            "INFO:tensorflow:loss = 0.52417064, step = 1700 (0.173 sec)\n",
            "INFO:tensorflow:global_step/sec: 548.104\n",
            "INFO:tensorflow:loss = 0.51051617, step = 1800 (0.182 sec)\n",
            "INFO:tensorflow:global_step/sec: 569.813\n",
            "INFO:tensorflow:loss = 0.48796672, step = 1900 (0.177 sec)\n",
            "INFO:tensorflow:global_step/sec: 581.486\n",
            "INFO:tensorflow:loss = 0.4979123, step = 2000 (0.171 sec)\n",
            "INFO:tensorflow:global_step/sec: 601.189\n",
            "INFO:tensorflow:loss = 0.49270815, step = 2100 (0.166 sec)\n",
            "INFO:tensorflow:global_step/sec: 615.197\n",
            "INFO:tensorflow:loss = 0.48843765, step = 2200 (0.165 sec)\n",
            "INFO:tensorflow:global_step/sec: 552.427\n",
            "INFO:tensorflow:loss = 0.49390307, step = 2300 (0.178 sec)\n",
            "INFO:tensorflow:global_step/sec: 537.399\n",
            "INFO:tensorflow:loss = 0.47252417, step = 2400 (0.186 sec)\n",
            "INFO:tensorflow:global_step/sec: 591.709\n",
            "INFO:tensorflow:loss = 0.47411096, step = 2500 (0.171 sec)\n",
            "INFO:tensorflow:global_step/sec: 575.356\n",
            "INFO:tensorflow:loss = 0.47170615, step = 2600 (0.172 sec)\n",
            "INFO:tensorflow:global_step/sec: 609.177\n",
            "INFO:tensorflow:loss = 0.4653679, step = 2700 (0.166 sec)\n",
            "INFO:tensorflow:global_step/sec: 594.398\n",
            "INFO:tensorflow:loss = 0.4528622, step = 2800 (0.165 sec)\n",
            "INFO:tensorflow:global_step/sec: 587.889\n",
            "INFO:tensorflow:loss = 0.44823858, step = 2900 (0.170 sec)\n",
            "INFO:tensorflow:global_step/sec: 602.402\n",
            "INFO:tensorflow:loss = 0.44703948, step = 3000 (0.169 sec)\n",
            "INFO:tensorflow:global_step/sec: 574.44\n",
            "INFO:tensorflow:loss = 0.45339394, step = 3100 (0.171 sec)\n",
            "INFO:tensorflow:global_step/sec: 598.118\n",
            "INFO:tensorflow:loss = 0.43963873, step = 3200 (0.169 sec)\n",
            "INFO:tensorflow:global_step/sec: 594.076\n",
            "INFO:tensorflow:loss = 0.4348302, step = 3300 (0.167 sec)\n",
            "INFO:tensorflow:global_step/sec: 613.829\n",
            "INFO:tensorflow:loss = 0.43251354, step = 3400 (0.163 sec)\n",
            "INFO:tensorflow:global_step/sec: 619.052\n",
            "INFO:tensorflow:loss = 0.42946574, step = 3500 (0.162 sec)\n",
            "INFO:tensorflow:global_step/sec: 531.717\n",
            "INFO:tensorflow:loss = 0.43327808, step = 3600 (0.189 sec)\n",
            "INFO:tensorflow:global_step/sec: 589.155\n",
            "INFO:tensorflow:loss = 0.42626736, step = 3700 (0.169 sec)\n",
            "INFO:tensorflow:global_step/sec: 600.37\n",
            "INFO:tensorflow:loss = 0.42194352, step = 3800 (0.165 sec)\n",
            "INFO:tensorflow:global_step/sec: 631.73\n",
            "INFO:tensorflow:loss = 0.4164373, step = 3900 (0.158 sec)\n",
            "INFO:tensorflow:global_step/sec: 545.348\n",
            "INFO:tensorflow:loss = 0.42322278, step = 4000 (0.185 sec)\n",
            "INFO:tensorflow:global_step/sec: 596.791\n",
            "INFO:tensorflow:loss = 0.41415533, step = 4100 (0.168 sec)\n",
            "INFO:tensorflow:global_step/sec: 565.17\n",
            "INFO:tensorflow:loss = 0.4042912, step = 4200 (0.177 sec)\n",
            "INFO:tensorflow:global_step/sec: 578.263\n",
            "INFO:tensorflow:loss = 0.41092718, step = 4300 (0.173 sec)\n",
            "INFO:tensorflow:global_step/sec: 570.651\n",
            "INFO:tensorflow:loss = 0.4178684, step = 4400 (0.172 sec)\n",
            "INFO:tensorflow:global_step/sec: 604.33\n",
            "INFO:tensorflow:loss = 0.40333402, step = 4500 (0.166 sec)\n",
            "INFO:tensorflow:global_step/sec: 594.998\n",
            "INFO:tensorflow:loss = 0.38587934, step = 4600 (0.170 sec)\n",
            "INFO:tensorflow:global_step/sec: 580.499\n",
            "INFO:tensorflow:loss = 0.3904293, step = 4700 (0.172 sec)\n",
            "INFO:tensorflow:global_step/sec: 554.715\n",
            "INFO:tensorflow:loss = 0.39261952, step = 4800 (0.183 sec)\n",
            "INFO:tensorflow:global_step/sec: 593.427\n",
            "INFO:tensorflow:loss = 0.39767122, step = 4900 (0.168 sec)\n",
            "INFO:tensorflow:Calling checkpoint listeners before saving checkpoint 5000...\n",
            "INFO:tensorflow:Saving checkpoints for 5000 into /tmp/tmpccyj2dly/model.ckpt.\n",
            "INFO:tensorflow:Calling checkpoint listeners after saving checkpoint 5000...\n",
            "INFO:tensorflow:Loss for final step: 0.3843251.\n"
          ],
          "name": "stdout"
        },
        {
          "output_type": "execute_result",
          "data": {
            "text/plain": [
              "<tensorflow_estimator.python.estimator.canned.dnn.DNNClassifierV2 at 0x7f5c05baa9d0>"
            ]
          },
          "metadata": {
            "tags": []
          },
          "execution_count": 10
        }
      ]
    },
    {
      "cell_type": "code",
      "metadata": {
        "colab": {
          "base_uri": "https://localhost:8080/"
        },
        "id": "AQRP4N9a1Co2",
        "outputId": "acdfdc4f-8c2a-4bdd-e37a-8ecf70a56680"
      },
      "source": [
        "eval_result = classifier.evaluate(\n",
        "    input_fn=lambda: input_fn(test, test_y, training=False))\n",
        "\n",
        "print('\\nTest set accuracy: {accuracy:0.3f}\\n'.format(**eval_result))"
      ],
      "execution_count": 11,
      "outputs": [
        {
          "output_type": "stream",
          "text": [
            "INFO:tensorflow:Calling model_fn.\n",
            "INFO:tensorflow:Done calling model_fn.\n",
            "INFO:tensorflow:Starting evaluation at 2021-04-07T19:36:14Z\n",
            "INFO:tensorflow:Graph was finalized.\n",
            "INFO:tensorflow:Restoring parameters from /tmp/tmpccyj2dly/model.ckpt-5000\n",
            "INFO:tensorflow:Running local_init_op.\n",
            "INFO:tensorflow:Done running local_init_op.\n",
            "INFO:tensorflow:Inference Time : 0.28214s\n",
            "INFO:tensorflow:Finished evaluation at 2021-04-07-19:36:14\n",
            "INFO:tensorflow:Saving dict for global step 5000: accuracy = 0.8666667, average_loss = 0.46133766, global_step = 5000, loss = 0.46133766\n",
            "INFO:tensorflow:Saving 'checkpoint_path' summary for global step 5000: /tmp/tmpccyj2dly/model.ckpt-5000\n",
            "\n",
            "Test set accuracy: 0.867\n",
            "\n"
          ],
          "name": "stdout"
        }
      ]
    },
    {
      "cell_type": "code",
      "metadata": {
        "id": "dYj1ah541cdb"
      },
      "source": [
        ""
      ],
      "execution_count": null,
      "outputs": []
    }
  ]
}